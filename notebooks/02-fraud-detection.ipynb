{
 "cells": [
  {
   "cell_type": "markdown",
   "metadata": {},
   "source": [
    "## Fraud Detection \n",
    "\n",
    "The purpose of this notebook is to attempt to detect fraud using XGBoost classifier, assess the model's performance, and finally, understand how the model is predicting fraud using feature importance."
   ]
  },
  {
   "cell_type": "code",
   "execution_count": 1,
   "metadata": {},
   "outputs": [
    {
     "name": "stderr",
     "output_type": "stream",
     "text": [
      "/Users/erinknochenhauer/.local/share/virtualenvs/silent_eight-IOYIP5YF/lib/python3.10/site-packages/tqdm/auto.py:22: TqdmWarning: IProgress not found. Please update jupyter and ipywidgets. See https://ipywidgets.readthedocs.io/en/stable/user_install.html\n",
      "  from .autonotebook import tqdm as notebook_tqdm\n"
     ]
    }
   ],
   "source": [
    "from collections import Counter\n",
    "import pandas as pd\n",
    "from sklearn.model_selection import train_test_split\n",
    "from sklearn.metrics import classification_report, confusion_matrix, accuracy_score\n",
    "from imblearn.over_sampling import BorderlineSMOTE \n",
    "from xgboost import XGBClassifier\n",
    "import matplotlib.pyplot as plt\n",
    "import shap\n",
    "\n",
    "sys.path.append(os.path.abspath(os.path.join('..')))\n",
    "from utilities.utils import (\n",
    "    prep_data,\n",
    "    plot_correlation_matrix,\n",
    "    get_best_n_estimators,\n",
    "    get_shap_values\n",
    ")\n"
   ]
  },
  {
   "cell_type": "code",
   "execution_count": 2,
   "metadata": {},
   "outputs": [
    {
     "data": {
      "text/plain": [
       "(5302, 26)"
      ]
     },
     "execution_count": 2,
     "metadata": {},
     "output_type": "execute_result"
    }
   ],
   "source": [
    "trxns = pd.read_csv('../data/feature_engineering_output.csv')\n",
    "trxns.shape"
   ]
  },
  {
   "cell_type": "code",
   "execution_count": 3,
   "metadata": {},
   "outputs": [
    {
     "data": {
      "text/html": [
       "<div>\n",
       "<style scoped>\n",
       "    .dataframe tbody tr th:only-of-type {\n",
       "        vertical-align: middle;\n",
       "    }\n",
       "\n",
       "    .dataframe tbody tr th {\n",
       "        vertical-align: top;\n",
       "    }\n",
       "\n",
       "    .dataframe thead th {\n",
       "        text-align: right;\n",
       "    }\n",
       "</style>\n",
       "<table border=\"1\" class=\"dataframe\">\n",
       "  <thead>\n",
       "    <tr style=\"text-align: right;\">\n",
       "      <th></th>\n",
       "      <th></th>\n",
       "      <th></th>\n",
       "      <th></th>\n",
       "      <th></th>\n",
       "      <th>scaled_amount</th>\n",
       "      <th>type_DIVIDEND</th>\n",
       "      <th>type_INTEREST</th>\n",
       "      <th>type_INVESTMENT</th>\n",
       "      <th>type_OTHER</th>\n",
       "      <th>type_PAYMENT</th>\n",
       "      <th>type_TRANSFER</th>\n",
       "      <th>type_TT</th>\n",
       "      <th>counterparty_country_CN</th>\n",
       "      <th>counterparty_country_DE</th>\n",
       "      <th>...</th>\n",
       "      <th>counterparty_country_HK</th>\n",
       "      <th>counterparty_country_IN</th>\n",
       "      <th>counterparty_country_JP</th>\n",
       "      <th>counterparty_country_SG</th>\n",
       "      <th>counterparty_country_UK</th>\n",
       "      <th>counterparty_country_US</th>\n",
       "      <th>outside_normal_hrs</th>\n",
       "      <th>customer_local_ccy</th>\n",
       "      <th>no_common_ccy</th>\n",
       "      <th>fraud_flag</th>\n",
       "    </tr>\n",
       "    <tr>\n",
       "      <th>customer</th>\n",
       "      <th>customer_country</th>\n",
       "      <th>counterparty</th>\n",
       "      <th>ccy</th>\n",
       "      <th>converted_time</th>\n",
       "      <th></th>\n",
       "      <th></th>\n",
       "      <th></th>\n",
       "      <th></th>\n",
       "      <th></th>\n",
       "      <th></th>\n",
       "      <th></th>\n",
       "      <th></th>\n",
       "      <th></th>\n",
       "      <th></th>\n",
       "      <th></th>\n",
       "      <th></th>\n",
       "      <th></th>\n",
       "      <th></th>\n",
       "      <th></th>\n",
       "      <th></th>\n",
       "      <th></th>\n",
       "      <th></th>\n",
       "      <th></th>\n",
       "      <th></th>\n",
       "      <th></th>\n",
       "    </tr>\n",
       "  </thead>\n",
       "  <tbody>\n",
       "    <tr>\n",
       "      <th rowspan=\"5\" valign=\"top\">C12976926337644</th>\n",
       "      <th rowspan=\"5\" valign=\"top\">UK</th>\n",
       "      <th rowspan=\"5\" valign=\"top\">77697395249488</th>\n",
       "      <th>JPY</th>\n",
       "      <th>2021-03-19 21:59:25</th>\n",
       "      <td>-0.186732</td>\n",
       "      <td>0</td>\n",
       "      <td>0</td>\n",
       "      <td>0</td>\n",
       "      <td>1</td>\n",
       "      <td>0</td>\n",
       "      <td>0</td>\n",
       "      <td>0</td>\n",
       "      <td>1</td>\n",
       "      <td>0</td>\n",
       "      <td>...</td>\n",
       "      <td>0</td>\n",
       "      <td>0</td>\n",
       "      <td>0</td>\n",
       "      <td>0</td>\n",
       "      <td>0</td>\n",
       "      <td>0</td>\n",
       "      <td>0</td>\n",
       "      <td>0</td>\n",
       "      <td>1</td>\n",
       "      <td>0</td>\n",
       "    </tr>\n",
       "    <tr>\n",
       "      <th>GBP</th>\n",
       "      <th>2021-05-01 19:00:38</th>\n",
       "      <td>-0.115031</td>\n",
       "      <td>0</td>\n",
       "      <td>0</td>\n",
       "      <td>0</td>\n",
       "      <td>0</td>\n",
       "      <td>1</td>\n",
       "      <td>0</td>\n",
       "      <td>0</td>\n",
       "      <td>1</td>\n",
       "      <td>0</td>\n",
       "      <td>...</td>\n",
       "      <td>0</td>\n",
       "      <td>0</td>\n",
       "      <td>0</td>\n",
       "      <td>0</td>\n",
       "      <td>0</td>\n",
       "      <td>0</td>\n",
       "      <td>0</td>\n",
       "      <td>1</td>\n",
       "      <td>0</td>\n",
       "      <td>0</td>\n",
       "    </tr>\n",
       "    <tr>\n",
       "      <th>USD</th>\n",
       "      <th>2021-05-23 14:15:15</th>\n",
       "      <td>-0.012516</td>\n",
       "      <td>0</td>\n",
       "      <td>0</td>\n",
       "      <td>0</td>\n",
       "      <td>0</td>\n",
       "      <td>1</td>\n",
       "      <td>0</td>\n",
       "      <td>0</td>\n",
       "      <td>1</td>\n",
       "      <td>0</td>\n",
       "      <td>...</td>\n",
       "      <td>0</td>\n",
       "      <td>0</td>\n",
       "      <td>0</td>\n",
       "      <td>0</td>\n",
       "      <td>0</td>\n",
       "      <td>0</td>\n",
       "      <td>0</td>\n",
       "      <td>0</td>\n",
       "      <td>1</td>\n",
       "      <td>0</td>\n",
       "    </tr>\n",
       "    <tr>\n",
       "      <th>CNY</th>\n",
       "      <th>2021-07-07 13:36:50</th>\n",
       "      <td>-0.038945</td>\n",
       "      <td>0</td>\n",
       "      <td>0</td>\n",
       "      <td>0</td>\n",
       "      <td>0</td>\n",
       "      <td>1</td>\n",
       "      <td>0</td>\n",
       "      <td>0</td>\n",
       "      <td>1</td>\n",
       "      <td>0</td>\n",
       "      <td>...</td>\n",
       "      <td>0</td>\n",
       "      <td>0</td>\n",
       "      <td>0</td>\n",
       "      <td>0</td>\n",
       "      <td>0</td>\n",
       "      <td>0</td>\n",
       "      <td>0</td>\n",
       "      <td>0</td>\n",
       "      <td>0</td>\n",
       "      <td>0</td>\n",
       "    </tr>\n",
       "    <tr>\n",
       "      <th>USD</th>\n",
       "      <th>2021-09-01 16:14:03</th>\n",
       "      <td>-0.010797</td>\n",
       "      <td>0</td>\n",
       "      <td>0</td>\n",
       "      <td>0</td>\n",
       "      <td>0</td>\n",
       "      <td>1</td>\n",
       "      <td>0</td>\n",
       "      <td>0</td>\n",
       "      <td>1</td>\n",
       "      <td>0</td>\n",
       "      <td>...</td>\n",
       "      <td>0</td>\n",
       "      <td>0</td>\n",
       "      <td>0</td>\n",
       "      <td>0</td>\n",
       "      <td>0</td>\n",
       "      <td>0</td>\n",
       "      <td>0</td>\n",
       "      <td>0</td>\n",
       "      <td>1</td>\n",
       "      <td>0</td>\n",
       "    </tr>\n",
       "  </tbody>\n",
       "</table>\n",
       "<p>5 rows × 21 columns</p>\n",
       "</div>"
      ],
      "text/plain": [
       "                                                                         scaled_amount  \\\n",
       "customer        customer_country counterparty   ccy converted_time                       \n",
       "C12976926337644 UK               77697395249488 JPY 2021-03-19 21:59:25      -0.186732   \n",
       "                                                GBP 2021-05-01 19:00:38      -0.115031   \n",
       "                                                USD 2021-05-23 14:15:15      -0.012516   \n",
       "                                                CNY 2021-07-07 13:36:50      -0.038945   \n",
       "                                                USD 2021-09-01 16:14:03      -0.010797   \n",
       "\n",
       "                                                                         type_DIVIDEND  \\\n",
       "customer        customer_country counterparty   ccy converted_time                       \n",
       "C12976926337644 UK               77697395249488 JPY 2021-03-19 21:59:25              0   \n",
       "                                                GBP 2021-05-01 19:00:38              0   \n",
       "                                                USD 2021-05-23 14:15:15              0   \n",
       "                                                CNY 2021-07-07 13:36:50              0   \n",
       "                                                USD 2021-09-01 16:14:03              0   \n",
       "\n",
       "                                                                         type_INTEREST  \\\n",
       "customer        customer_country counterparty   ccy converted_time                       \n",
       "C12976926337644 UK               77697395249488 JPY 2021-03-19 21:59:25              0   \n",
       "                                                GBP 2021-05-01 19:00:38              0   \n",
       "                                                USD 2021-05-23 14:15:15              0   \n",
       "                                                CNY 2021-07-07 13:36:50              0   \n",
       "                                                USD 2021-09-01 16:14:03              0   \n",
       "\n",
       "                                                                         type_INVESTMENT  \\\n",
       "customer        customer_country counterparty   ccy converted_time                         \n",
       "C12976926337644 UK               77697395249488 JPY 2021-03-19 21:59:25                0   \n",
       "                                                GBP 2021-05-01 19:00:38                0   \n",
       "                                                USD 2021-05-23 14:15:15                0   \n",
       "                                                CNY 2021-07-07 13:36:50                0   \n",
       "                                                USD 2021-09-01 16:14:03                0   \n",
       "\n",
       "                                                                         type_OTHER  \\\n",
       "customer        customer_country counterparty   ccy converted_time                    \n",
       "C12976926337644 UK               77697395249488 JPY 2021-03-19 21:59:25           1   \n",
       "                                                GBP 2021-05-01 19:00:38           0   \n",
       "                                                USD 2021-05-23 14:15:15           0   \n",
       "                                                CNY 2021-07-07 13:36:50           0   \n",
       "                                                USD 2021-09-01 16:14:03           0   \n",
       "\n",
       "                                                                         type_PAYMENT  \\\n",
       "customer        customer_country counterparty   ccy converted_time                      \n",
       "C12976926337644 UK               77697395249488 JPY 2021-03-19 21:59:25             0   \n",
       "                                                GBP 2021-05-01 19:00:38             1   \n",
       "                                                USD 2021-05-23 14:15:15             1   \n",
       "                                                CNY 2021-07-07 13:36:50             1   \n",
       "                                                USD 2021-09-01 16:14:03             1   \n",
       "\n",
       "                                                                         type_TRANSFER  \\\n",
       "customer        customer_country counterparty   ccy converted_time                       \n",
       "C12976926337644 UK               77697395249488 JPY 2021-03-19 21:59:25              0   \n",
       "                                                GBP 2021-05-01 19:00:38              0   \n",
       "                                                USD 2021-05-23 14:15:15              0   \n",
       "                                                CNY 2021-07-07 13:36:50              0   \n",
       "                                                USD 2021-09-01 16:14:03              0   \n",
       "\n",
       "                                                                         type_TT  \\\n",
       "customer        customer_country counterparty   ccy converted_time                 \n",
       "C12976926337644 UK               77697395249488 JPY 2021-03-19 21:59:25        0   \n",
       "                                                GBP 2021-05-01 19:00:38        0   \n",
       "                                                USD 2021-05-23 14:15:15        0   \n",
       "                                                CNY 2021-07-07 13:36:50        0   \n",
       "                                                USD 2021-09-01 16:14:03        0   \n",
       "\n",
       "                                                                         counterparty_country_CN  \\\n",
       "customer        customer_country counterparty   ccy converted_time                                 \n",
       "C12976926337644 UK               77697395249488 JPY 2021-03-19 21:59:25                        1   \n",
       "                                                GBP 2021-05-01 19:00:38                        1   \n",
       "                                                USD 2021-05-23 14:15:15                        1   \n",
       "                                                CNY 2021-07-07 13:36:50                        1   \n",
       "                                                USD 2021-09-01 16:14:03                        1   \n",
       "\n",
       "                                                                         counterparty_country_DE  \\\n",
       "customer        customer_country counterparty   ccy converted_time                                 \n",
       "C12976926337644 UK               77697395249488 JPY 2021-03-19 21:59:25                        0   \n",
       "                                                GBP 2021-05-01 19:00:38                        0   \n",
       "                                                USD 2021-05-23 14:15:15                        0   \n",
       "                                                CNY 2021-07-07 13:36:50                        0   \n",
       "                                                USD 2021-09-01 16:14:03                        0   \n",
       "\n",
       "                                                                         ...  \\\n",
       "customer        customer_country counterparty   ccy converted_time       ...   \n",
       "C12976926337644 UK               77697395249488 JPY 2021-03-19 21:59:25  ...   \n",
       "                                                GBP 2021-05-01 19:00:38  ...   \n",
       "                                                USD 2021-05-23 14:15:15  ...   \n",
       "                                                CNY 2021-07-07 13:36:50  ...   \n",
       "                                                USD 2021-09-01 16:14:03  ...   \n",
       "\n",
       "                                                                         counterparty_country_HK  \\\n",
       "customer        customer_country counterparty   ccy converted_time                                 \n",
       "C12976926337644 UK               77697395249488 JPY 2021-03-19 21:59:25                        0   \n",
       "                                                GBP 2021-05-01 19:00:38                        0   \n",
       "                                                USD 2021-05-23 14:15:15                        0   \n",
       "                                                CNY 2021-07-07 13:36:50                        0   \n",
       "                                                USD 2021-09-01 16:14:03                        0   \n",
       "\n",
       "                                                                         counterparty_country_IN  \\\n",
       "customer        customer_country counterparty   ccy converted_time                                 \n",
       "C12976926337644 UK               77697395249488 JPY 2021-03-19 21:59:25                        0   \n",
       "                                                GBP 2021-05-01 19:00:38                        0   \n",
       "                                                USD 2021-05-23 14:15:15                        0   \n",
       "                                                CNY 2021-07-07 13:36:50                        0   \n",
       "                                                USD 2021-09-01 16:14:03                        0   \n",
       "\n",
       "                                                                         counterparty_country_JP  \\\n",
       "customer        customer_country counterparty   ccy converted_time                                 \n",
       "C12976926337644 UK               77697395249488 JPY 2021-03-19 21:59:25                        0   \n",
       "                                                GBP 2021-05-01 19:00:38                        0   \n",
       "                                                USD 2021-05-23 14:15:15                        0   \n",
       "                                                CNY 2021-07-07 13:36:50                        0   \n",
       "                                                USD 2021-09-01 16:14:03                        0   \n",
       "\n",
       "                                                                         counterparty_country_SG  \\\n",
       "customer        customer_country counterparty   ccy converted_time                                 \n",
       "C12976926337644 UK               77697395249488 JPY 2021-03-19 21:59:25                        0   \n",
       "                                                GBP 2021-05-01 19:00:38                        0   \n",
       "                                                USD 2021-05-23 14:15:15                        0   \n",
       "                                                CNY 2021-07-07 13:36:50                        0   \n",
       "                                                USD 2021-09-01 16:14:03                        0   \n",
       "\n",
       "                                                                         counterparty_country_UK  \\\n",
       "customer        customer_country counterparty   ccy converted_time                                 \n",
       "C12976926337644 UK               77697395249488 JPY 2021-03-19 21:59:25                        0   \n",
       "                                                GBP 2021-05-01 19:00:38                        0   \n",
       "                                                USD 2021-05-23 14:15:15                        0   \n",
       "                                                CNY 2021-07-07 13:36:50                        0   \n",
       "                                                USD 2021-09-01 16:14:03                        0   \n",
       "\n",
       "                                                                         counterparty_country_US  \\\n",
       "customer        customer_country counterparty   ccy converted_time                                 \n",
       "C12976926337644 UK               77697395249488 JPY 2021-03-19 21:59:25                        0   \n",
       "                                                GBP 2021-05-01 19:00:38                        0   \n",
       "                                                USD 2021-05-23 14:15:15                        0   \n",
       "                                                CNY 2021-07-07 13:36:50                        0   \n",
       "                                                USD 2021-09-01 16:14:03                        0   \n",
       "\n",
       "                                                                         outside_normal_hrs  \\\n",
       "customer        customer_country counterparty   ccy converted_time                            \n",
       "C12976926337644 UK               77697395249488 JPY 2021-03-19 21:59:25                   0   \n",
       "                                                GBP 2021-05-01 19:00:38                   0   \n",
       "                                                USD 2021-05-23 14:15:15                   0   \n",
       "                                                CNY 2021-07-07 13:36:50                   0   \n",
       "                                                USD 2021-09-01 16:14:03                   0   \n",
       "\n",
       "                                                                         customer_local_ccy  \\\n",
       "customer        customer_country counterparty   ccy converted_time                            \n",
       "C12976926337644 UK               77697395249488 JPY 2021-03-19 21:59:25                   0   \n",
       "                                                GBP 2021-05-01 19:00:38                   1   \n",
       "                                                USD 2021-05-23 14:15:15                   0   \n",
       "                                                CNY 2021-07-07 13:36:50                   0   \n",
       "                                                USD 2021-09-01 16:14:03                   0   \n",
       "\n",
       "                                                                         no_common_ccy  \\\n",
       "customer        customer_country counterparty   ccy converted_time                       \n",
       "C12976926337644 UK               77697395249488 JPY 2021-03-19 21:59:25              1   \n",
       "                                                GBP 2021-05-01 19:00:38              0   \n",
       "                                                USD 2021-05-23 14:15:15              1   \n",
       "                                                CNY 2021-07-07 13:36:50              0   \n",
       "                                                USD 2021-09-01 16:14:03              1   \n",
       "\n",
       "                                                                         fraud_flag  \n",
       "customer        customer_country counterparty   ccy converted_time                   \n",
       "C12976926337644 UK               77697395249488 JPY 2021-03-19 21:59:25           0  \n",
       "                                                GBP 2021-05-01 19:00:38           0  \n",
       "                                                USD 2021-05-23 14:15:15           0  \n",
       "                                                CNY 2021-07-07 13:36:50           0  \n",
       "                                                USD 2021-09-01 16:14:03           0  \n",
       "\n",
       "[5 rows x 21 columns]"
      ]
     },
     "execution_count": 3,
     "metadata": {},
     "output_type": "execute_result"
    }
   ],
   "source": [
    "trxns.set_index(['customer', 'customer_country', 'counterparty','ccy', 'converted_time'], inplace=True)\n",
    "trxns.head()"
   ]
  },
  {
   "cell_type": "markdown",
   "metadata": {},
   "source": [
    "### See if any variables are highly related\n",
    "\n",
    "Avoid multicollinearity by dropping variables that are highly correlated."
   ]
  },
  {
   "cell_type": "code",
   "execution_count": 4,
   "metadata": {},
   "outputs": [
    {
     "data": {
      "application/vnd.plotly.v1+json": {
       "config": {
        "plotlyServerURL": "https://plot.ly"
       },
       "data": [
        {
         "colorscale": [
          [
           0,
           "rgb(103,0,31)"
          ],
          [
           0.1,
           "rgb(178,24,43)"
          ],
          [
           0.2,
           "rgb(214,96,77)"
          ],
          [
           0.3,
           "rgb(244,165,130)"
          ],
          [
           0.4,
           "rgb(253,219,199)"
          ],
          [
           0.5,
           "rgb(247,247,247)"
          ],
          [
           0.6,
           "rgb(209,229,240)"
          ],
          [
           0.7,
           "rgb(146,197,222)"
          ],
          [
           0.8,
           "rgb(67,147,195)"
          ],
          [
           0.9,
           "rgb(33,102,172)"
          ],
          [
           1,
           "rgb(5,48,97)"
          ]
         ],
         "type": "heatmap",
         "x": [
          "scaled_amount",
          "type_DIVIDEND",
          "type_INTEREST",
          "type_INVESTMENT",
          "type_OTHER",
          "type_PAYMENT",
          "type_TRANSFER",
          "type_TT",
          "counterparty_country_CN",
          "counterparty_country_DE",
          "counterparty_country_FR",
          "counterparty_country_HK",
          "counterparty_country_IN",
          "counterparty_country_JP",
          "counterparty_country_SG",
          "counterparty_country_UK",
          "counterparty_country_US",
          "outside_normal_hrs",
          "customer_local_ccy",
          "no_common_ccy",
          "fraud_flag"
         ],
         "y": [
          "scaled_amount",
          "type_DIVIDEND",
          "type_INTEREST",
          "type_INVESTMENT",
          "type_OTHER",
          "type_PAYMENT",
          "type_TRANSFER",
          "type_TT",
          "counterparty_country_CN",
          "counterparty_country_DE",
          "counterparty_country_FR",
          "counterparty_country_HK",
          "counterparty_country_IN",
          "counterparty_country_JP",
          "counterparty_country_SG",
          "counterparty_country_UK",
          "counterparty_country_US",
          "outside_normal_hrs",
          "customer_local_ccy",
          "no_common_ccy",
          "fraud_flag"
         ],
         "z": [
          [
           null,
           null,
           null,
           null,
           null,
           null,
           null,
           null,
           null,
           null,
           null,
           null,
           null,
           null,
           null,
           null,
           null,
           null,
           null,
           null,
           null
          ],
          [
           -0.016812600746592642,
           null,
           null,
           null,
           null,
           null,
           null,
           null,
           null,
           null,
           null,
           null,
           null,
           null,
           null,
           null,
           null,
           null,
           null,
           null,
           null
          ],
          [
           -0.004864000019425412,
           -0.14659992134065677,
           null,
           null,
           null,
           null,
           null,
           null,
           null,
           null,
           null,
           null,
           null,
           null,
           null,
           null,
           null,
           null,
           null,
           null,
           null
          ],
          [
           0.004319930241357104,
           -0.14177002808295935,
           -0.13868683511660287,
           null,
           null,
           null,
           null,
           null,
           null,
           null,
           null,
           null,
           null,
           null,
           null,
           null,
           null,
           null,
           null,
           null,
           null
          ],
          [
           0.008618298861406188,
           -0.1445763594665218,
           -0.14143213483289352,
           -0.13677249990127768,
           null,
           null,
           null,
           null,
           null,
           null,
           null,
           null,
           null,
           null,
           null,
           null,
           null,
           null,
           null,
           null,
           null
          ],
          [
           0.009023282367824275,
           -0.14253823626022413,
           -0.13943833641949624,
           -0.13484438933699985,
           -0.1375136280104398,
           null,
           null,
           null,
           null,
           null,
           null,
           null,
           null,
           null,
           null,
           null,
           null,
           null,
           null,
           null,
           null
          ],
          [
           -0.00009640143126762514,
           -0.15296108253707347,
           -0.14963450822385793,
           -0.1447046372131502,
           -0.14756905905357376,
           -0.1454887471346791,
           null,
           null,
           null,
           null,
           null,
           null,
           null,
           null,
           null,
           null,
           null,
           null,
           null,
           null,
           null
          ],
          [
           0.003102978836658692,
           -0.15159984916677174,
           -0.1483028787494551,
           -0.14341687971467543,
           -0.14625581045284544,
           -0.14419401167440293,
           -0.15473793348202677,
           null,
           null,
           null,
           null,
           null,
           null,
           null,
           null,
           null,
           null,
           null,
           null,
           null,
           null
          ],
          [
           -0.027636650590710025,
           0.013581313410539789,
           0.021195099871836185,
           -0.027305907315231342,
           0.004329216670599927,
           0.06528781400123558,
           0.0245613013986055,
           -0.03763802004690434,
           null,
           null,
           null,
           null,
           null,
           null,
           null,
           null,
           null,
           null,
           null,
           null,
           null
          ],
          [
           -0.008061610308143207,
           -0.09012518691470517,
           -0.02222472987254339,
           0.006001447795581716,
           0.05722840097504368,
           -0.02229313253237127,
           0.05171736123484754,
           0.052248659369671026,
           -0.12831216302826653,
           null,
           null,
           null,
           null,
           null,
           null,
           null,
           null,
           null,
           null,
           null,
           null
          ],
          [
           -0.023300110527407443,
           -0.02468458580715875,
           0.07081215721461422,
           -0.033473051050304445,
           -0.021422214641559353,
           -0.010712026406860604,
           0.05384550959912208,
           -0.05157886509292489,
           -0.12479778313497432,
           -0.1084756591609037,
           null,
           null,
           null,
           null,
           null,
           null,
           null,
           null,
           null,
           null,
           null
          ],
          [
           -0.009239670037783783,
           0.01460648488668532,
           0.07279303143582717,
           -0.029508429646430558,
           0.03663717116343059,
           -0.06674938179321059,
           0.0004468744477827844,
           -0.0476125475733443,
           -0.12219052602452787,
           -0.10620940148746648,
           -0.10330040068616339,
           null,
           null,
           null,
           null,
           null,
           null,
           null,
           null,
           null,
           null
          ],
          [
           0.10600035601857002,
           0.017721241189283875,
           -0.013794224746070139,
           0.02179018037630215,
           -0.03406733208545111,
           0.05965655891316477,
           -0.04928234163111525,
           0.0001475800775970754,
           -0.10492900057127033,
           -0.0912054863166359,
           -0.08870743219842692,
           -0.08685416944376231,
           null,
           null,
           null,
           null,
           null,
           null,
           null,
           null,
           null
          ],
          [
           0.07337685905782029,
           -0.04433618644430136,
           -0.02164277783903059,
           0.021115500261489225,
           -0.02416695458214909,
           0.04773697792021225,
           0.03805421018560561,
           0.029777822653241807,
           -0.13478521804141325,
           -0.11715685170765615,
           -0.11394800794502653,
           -0.11156742275775161,
           -0.09580659439941608,
           null,
           null,
           null,
           null,
           null,
           null,
           null,
           null
          ],
          [
           -0.017284510622170547,
           0.007449078855680548,
           -0.030001170164622046,
           0.08333191487126952,
           0.006309353616703482,
           -0.029434108250519758,
           -0.06786665711020208,
           0.06646058217215611,
           -0.11341990698285322,
           -0.09858587919487974,
           -0.09588568130694701,
           -0.09388245161730495,
           -0.08061993134727118,
           -0.10355931121010763,
           null,
           null,
           null,
           null,
           null,
           null,
           null
          ],
          [
           -0.03235565293036619,
           0.0465542667322302,
           0.008850559685572707,
           -0.03988111989452466,
           0.010770368985107305,
           -0.0219722087835828,
           -0.03518106842670025,
           -0.01814638855965978,
           -0.14786734876415006,
           -0.128527989220918,
           -0.12500769800001685,
           -0.12239605537878094,
           -0.10510549534898682,
           -0.13501193217161717,
           -0.11361068380491962,
           null,
           null,
           null,
           null,
           null,
           null
          ],
          [
           -0.027438594313918003,
           0.030219648548367502,
           -0.06356035351439,
           -0.035058857946751565,
           -0.022568229358424317,
           -0.006577862635641254,
           0.009099759283049324,
           -0.0010316668440504904,
           -0.13608441411643044,
           -0.11828612778193098,
           -0.11504635394193569,
           -0.11264282227005008,
           -0.09673007512833663,
           -0.12425339225907833,
           -0.1045575204544952,
           -0.13631331354642084,
           null,
           null,
           null,
           null,
           null
          ],
          [
           -0.004587777850672446,
           -0.0292489454746937,
           -0.013427458363347956,
           -0.0005189892359116155,
           -0.0028419962411176977,
           0.03307547342246907,
           0.010538283448711239,
           0.0052776450773414545,
           0.004082214141950443,
           -0.009757134656148119,
           0.0361066958912817,
           -0.01765019585706338,
           -0.0027919457487463354,
           -0.019296591577144924,
           -0.022794788309176518,
           0.03919281865789891,
           -0.011212106841628771,
           null,
           null,
           null,
           null
          ],
          [
           -0.027030696034361687,
           0.040845887520416374,
           0.02413812075013297,
           -0.02421990884088202,
           0.03394308838695832,
           0.0007370891203948594,
           -0.024439985034342422,
           -0.03464862932395059,
           -0.026719957446307716,
           -0.08008542467704048,
           -0.03573196907804009,
           -0.018478494120476016,
           -0.04332283090865126,
           0.005139446489466466,
           0.07262723533359033,
           0.05365549193381261,
           0.05741529773246141,
           0.017759888558544254,
           null,
           null,
           null
          ],
          [
           0.09406507868378157,
           -0.01279064245187389,
           -0.04276152166586272,
           0.02137313043628731,
           -0.006885402162079889,
           -0.02858354829055959,
           0.02481703205331339,
           0.026627101093226538,
           -0.014577496843417604,
           0.021159908827883604,
           -0.023175812842708494,
           -0.030503614120590192,
           -0.0037533093691655096,
           -0.05795604930798085,
           0.05168123033985917,
           0.07376467094586495,
           0.022145032087479706,
           0.007611410014894372,
           -0.4536565294060738,
           null,
           null
          ],
          [
           0.005986591496609294,
           -0.038216329365095274,
           -0.041274865619843455,
           0.032552762063512486,
           0.0038147903420875776,
           0.11705159240709186,
           -0.01822366365512004,
           -0.013258961575921765,
           0.031640777278213274,
           -0.024799134712881282,
           -0.033038638563115647,
           -0.03197080278227729,
           -0.024661939296536498,
           0.08381146756134263,
           -0.006922483405385731,
           0.01412401794804279,
           -0.009890947911608728,
           0.07626057080199246,
           -0.041744660201471454,
           0.021644498320875817,
           null
          ]
         ],
         "zmax": 1,
         "zmin": -1
        }
       ],
       "layout": {
        "height": 800,
        "template": {
         "data": {
          "bar": [
           {
            "error_x": {
             "color": "#2a3f5f"
            },
            "error_y": {
             "color": "#2a3f5f"
            },
            "marker": {
             "line": {
              "color": "white",
              "width": 0.5
             },
             "pattern": {
              "fillmode": "overlay",
              "size": 10,
              "solidity": 0.2
             }
            },
            "type": "bar"
           }
          ],
          "barpolar": [
           {
            "marker": {
             "line": {
              "color": "white",
              "width": 0.5
             },
             "pattern": {
              "fillmode": "overlay",
              "size": 10,
              "solidity": 0.2
             }
            },
            "type": "barpolar"
           }
          ],
          "carpet": [
           {
            "aaxis": {
             "endlinecolor": "#2a3f5f",
             "gridcolor": "#C8D4E3",
             "linecolor": "#C8D4E3",
             "minorgridcolor": "#C8D4E3",
             "startlinecolor": "#2a3f5f"
            },
            "baxis": {
             "endlinecolor": "#2a3f5f",
             "gridcolor": "#C8D4E3",
             "linecolor": "#C8D4E3",
             "minorgridcolor": "#C8D4E3",
             "startlinecolor": "#2a3f5f"
            },
            "type": "carpet"
           }
          ],
          "choropleth": [
           {
            "colorbar": {
             "outlinewidth": 0,
             "ticks": ""
            },
            "type": "choropleth"
           }
          ],
          "contour": [
           {
            "colorbar": {
             "outlinewidth": 0,
             "ticks": ""
            },
            "colorscale": [
             [
              0,
              "#0d0887"
             ],
             [
              0.1111111111111111,
              "#46039f"
             ],
             [
              0.2222222222222222,
              "#7201a8"
             ],
             [
              0.3333333333333333,
              "#9c179e"
             ],
             [
              0.4444444444444444,
              "#bd3786"
             ],
             [
              0.5555555555555556,
              "#d8576b"
             ],
             [
              0.6666666666666666,
              "#ed7953"
             ],
             [
              0.7777777777777778,
              "#fb9f3a"
             ],
             [
              0.8888888888888888,
              "#fdca26"
             ],
             [
              1,
              "#f0f921"
             ]
            ],
            "type": "contour"
           }
          ],
          "contourcarpet": [
           {
            "colorbar": {
             "outlinewidth": 0,
             "ticks": ""
            },
            "type": "contourcarpet"
           }
          ],
          "heatmap": [
           {
            "colorbar": {
             "outlinewidth": 0,
             "ticks": ""
            },
            "colorscale": [
             [
              0,
              "#0d0887"
             ],
             [
              0.1111111111111111,
              "#46039f"
             ],
             [
              0.2222222222222222,
              "#7201a8"
             ],
             [
              0.3333333333333333,
              "#9c179e"
             ],
             [
              0.4444444444444444,
              "#bd3786"
             ],
             [
              0.5555555555555556,
              "#d8576b"
             ],
             [
              0.6666666666666666,
              "#ed7953"
             ],
             [
              0.7777777777777778,
              "#fb9f3a"
             ],
             [
              0.8888888888888888,
              "#fdca26"
             ],
             [
              1,
              "#f0f921"
             ]
            ],
            "type": "heatmap"
           }
          ],
          "heatmapgl": [
           {
            "colorbar": {
             "outlinewidth": 0,
             "ticks": ""
            },
            "colorscale": [
             [
              0,
              "#0d0887"
             ],
             [
              0.1111111111111111,
              "#46039f"
             ],
             [
              0.2222222222222222,
              "#7201a8"
             ],
             [
              0.3333333333333333,
              "#9c179e"
             ],
             [
              0.4444444444444444,
              "#bd3786"
             ],
             [
              0.5555555555555556,
              "#d8576b"
             ],
             [
              0.6666666666666666,
              "#ed7953"
             ],
             [
              0.7777777777777778,
              "#fb9f3a"
             ],
             [
              0.8888888888888888,
              "#fdca26"
             ],
             [
              1,
              "#f0f921"
             ]
            ],
            "type": "heatmapgl"
           }
          ],
          "histogram": [
           {
            "marker": {
             "pattern": {
              "fillmode": "overlay",
              "size": 10,
              "solidity": 0.2
             }
            },
            "type": "histogram"
           }
          ],
          "histogram2d": [
           {
            "colorbar": {
             "outlinewidth": 0,
             "ticks": ""
            },
            "colorscale": [
             [
              0,
              "#0d0887"
             ],
             [
              0.1111111111111111,
              "#46039f"
             ],
             [
              0.2222222222222222,
              "#7201a8"
             ],
             [
              0.3333333333333333,
              "#9c179e"
             ],
             [
              0.4444444444444444,
              "#bd3786"
             ],
             [
              0.5555555555555556,
              "#d8576b"
             ],
             [
              0.6666666666666666,
              "#ed7953"
             ],
             [
              0.7777777777777778,
              "#fb9f3a"
             ],
             [
              0.8888888888888888,
              "#fdca26"
             ],
             [
              1,
              "#f0f921"
             ]
            ],
            "type": "histogram2d"
           }
          ],
          "histogram2dcontour": [
           {
            "colorbar": {
             "outlinewidth": 0,
             "ticks": ""
            },
            "colorscale": [
             [
              0,
              "#0d0887"
             ],
             [
              0.1111111111111111,
              "#46039f"
             ],
             [
              0.2222222222222222,
              "#7201a8"
             ],
             [
              0.3333333333333333,
              "#9c179e"
             ],
             [
              0.4444444444444444,
              "#bd3786"
             ],
             [
              0.5555555555555556,
              "#d8576b"
             ],
             [
              0.6666666666666666,
              "#ed7953"
             ],
             [
              0.7777777777777778,
              "#fb9f3a"
             ],
             [
              0.8888888888888888,
              "#fdca26"
             ],
             [
              1,
              "#f0f921"
             ]
            ],
            "type": "histogram2dcontour"
           }
          ],
          "mesh3d": [
           {
            "colorbar": {
             "outlinewidth": 0,
             "ticks": ""
            },
            "type": "mesh3d"
           }
          ],
          "parcoords": [
           {
            "line": {
             "colorbar": {
              "outlinewidth": 0,
              "ticks": ""
             }
            },
            "type": "parcoords"
           }
          ],
          "pie": [
           {
            "automargin": true,
            "type": "pie"
           }
          ],
          "scatter": [
           {
            "fillpattern": {
             "fillmode": "overlay",
             "size": 10,
             "solidity": 0.2
            },
            "type": "scatter"
           }
          ],
          "scatter3d": [
           {
            "line": {
             "colorbar": {
              "outlinewidth": 0,
              "ticks": ""
             }
            },
            "marker": {
             "colorbar": {
              "outlinewidth": 0,
              "ticks": ""
             }
            },
            "type": "scatter3d"
           }
          ],
          "scattercarpet": [
           {
            "marker": {
             "colorbar": {
              "outlinewidth": 0,
              "ticks": ""
             }
            },
            "type": "scattercarpet"
           }
          ],
          "scattergeo": [
           {
            "marker": {
             "colorbar": {
              "outlinewidth": 0,
              "ticks": ""
             }
            },
            "type": "scattergeo"
           }
          ],
          "scattergl": [
           {
            "marker": {
             "colorbar": {
              "outlinewidth": 0,
              "ticks": ""
             }
            },
            "type": "scattergl"
           }
          ],
          "scattermapbox": [
           {
            "marker": {
             "colorbar": {
              "outlinewidth": 0,
              "ticks": ""
             }
            },
            "type": "scattermapbox"
           }
          ],
          "scatterpolar": [
           {
            "marker": {
             "colorbar": {
              "outlinewidth": 0,
              "ticks": ""
             }
            },
            "type": "scatterpolar"
           }
          ],
          "scatterpolargl": [
           {
            "marker": {
             "colorbar": {
              "outlinewidth": 0,
              "ticks": ""
             }
            },
            "type": "scatterpolargl"
           }
          ],
          "scatterternary": [
           {
            "marker": {
             "colorbar": {
              "outlinewidth": 0,
              "ticks": ""
             }
            },
            "type": "scatterternary"
           }
          ],
          "surface": [
           {
            "colorbar": {
             "outlinewidth": 0,
             "ticks": ""
            },
            "colorscale": [
             [
              0,
              "#0d0887"
             ],
             [
              0.1111111111111111,
              "#46039f"
             ],
             [
              0.2222222222222222,
              "#7201a8"
             ],
             [
              0.3333333333333333,
              "#9c179e"
             ],
             [
              0.4444444444444444,
              "#bd3786"
             ],
             [
              0.5555555555555556,
              "#d8576b"
             ],
             [
              0.6666666666666666,
              "#ed7953"
             ],
             [
              0.7777777777777778,
              "#fb9f3a"
             ],
             [
              0.8888888888888888,
              "#fdca26"
             ],
             [
              1,
              "#f0f921"
             ]
            ],
            "type": "surface"
           }
          ],
          "table": [
           {
            "cells": {
             "fill": {
              "color": "#EBF0F8"
             },
             "line": {
              "color": "white"
             }
            },
            "header": {
             "fill": {
              "color": "#C8D4E3"
             },
             "line": {
              "color": "white"
             }
            },
            "type": "table"
           }
          ]
         },
         "layout": {
          "annotationdefaults": {
           "arrowcolor": "#2a3f5f",
           "arrowhead": 0,
           "arrowwidth": 1
          },
          "autotypenumbers": "strict",
          "coloraxis": {
           "colorbar": {
            "outlinewidth": 0,
            "ticks": ""
           }
          },
          "colorscale": {
           "diverging": [
            [
             0,
             "#8e0152"
            ],
            [
             0.1,
             "#c51b7d"
            ],
            [
             0.2,
             "#de77ae"
            ],
            [
             0.3,
             "#f1b6da"
            ],
            [
             0.4,
             "#fde0ef"
            ],
            [
             0.5,
             "#f7f7f7"
            ],
            [
             0.6,
             "#e6f5d0"
            ],
            [
             0.7,
             "#b8e186"
            ],
            [
             0.8,
             "#7fbc41"
            ],
            [
             0.9,
             "#4d9221"
            ],
            [
             1,
             "#276419"
            ]
           ],
           "sequential": [
            [
             0,
             "#0d0887"
            ],
            [
             0.1111111111111111,
             "#46039f"
            ],
            [
             0.2222222222222222,
             "#7201a8"
            ],
            [
             0.3333333333333333,
             "#9c179e"
            ],
            [
             0.4444444444444444,
             "#bd3786"
            ],
            [
             0.5555555555555556,
             "#d8576b"
            ],
            [
             0.6666666666666666,
             "#ed7953"
            ],
            [
             0.7777777777777778,
             "#fb9f3a"
            ],
            [
             0.8888888888888888,
             "#fdca26"
            ],
            [
             1,
             "#f0f921"
            ]
           ],
           "sequentialminus": [
            [
             0,
             "#0d0887"
            ],
            [
             0.1111111111111111,
             "#46039f"
            ],
            [
             0.2222222222222222,
             "#7201a8"
            ],
            [
             0.3333333333333333,
             "#9c179e"
            ],
            [
             0.4444444444444444,
             "#bd3786"
            ],
            [
             0.5555555555555556,
             "#d8576b"
            ],
            [
             0.6666666666666666,
             "#ed7953"
            ],
            [
             0.7777777777777778,
             "#fb9f3a"
            ],
            [
             0.8888888888888888,
             "#fdca26"
            ],
            [
             1,
             "#f0f921"
            ]
           ]
          },
          "colorway": [
           "#636efa",
           "#EF553B",
           "#00cc96",
           "#ab63fa",
           "#FFA15A",
           "#19d3f3",
           "#FF6692",
           "#B6E880",
           "#FF97FF",
           "#FECB52"
          ],
          "font": {
           "color": "#2a3f5f"
          },
          "geo": {
           "bgcolor": "white",
           "lakecolor": "white",
           "landcolor": "white",
           "showlakes": true,
           "showland": true,
           "subunitcolor": "#C8D4E3"
          },
          "hoverlabel": {
           "align": "left"
          },
          "hovermode": "closest",
          "mapbox": {
           "style": "light"
          },
          "paper_bgcolor": "white",
          "plot_bgcolor": "white",
          "polar": {
           "angularaxis": {
            "gridcolor": "#EBF0F8",
            "linecolor": "#EBF0F8",
            "ticks": ""
           },
           "bgcolor": "white",
           "radialaxis": {
            "gridcolor": "#EBF0F8",
            "linecolor": "#EBF0F8",
            "ticks": ""
           }
          },
          "scene": {
           "xaxis": {
            "backgroundcolor": "white",
            "gridcolor": "#DFE8F3",
            "gridwidth": 2,
            "linecolor": "#EBF0F8",
            "showbackground": true,
            "ticks": "",
            "zerolinecolor": "#EBF0F8"
           },
           "yaxis": {
            "backgroundcolor": "white",
            "gridcolor": "#DFE8F3",
            "gridwidth": 2,
            "linecolor": "#EBF0F8",
            "showbackground": true,
            "ticks": "",
            "zerolinecolor": "#EBF0F8"
           },
           "zaxis": {
            "backgroundcolor": "white",
            "gridcolor": "#DFE8F3",
            "gridwidth": 2,
            "linecolor": "#EBF0F8",
            "showbackground": true,
            "ticks": "",
            "zerolinecolor": "#EBF0F8"
           }
          },
          "shapedefaults": {
           "line": {
            "color": "#2a3f5f"
           }
          },
          "ternary": {
           "aaxis": {
            "gridcolor": "#DFE8F3",
            "linecolor": "#A2B1C6",
            "ticks": ""
           },
           "baxis": {
            "gridcolor": "#DFE8F3",
            "linecolor": "#A2B1C6",
            "ticks": ""
           },
           "bgcolor": "white",
           "caxis": {
            "gridcolor": "#DFE8F3",
            "linecolor": "#A2B1C6",
            "ticks": ""
           }
          },
          "title": {
           "x": 0.05
          },
          "xaxis": {
           "automargin": true,
           "gridcolor": "#EBF0F8",
           "linecolor": "#EBF0F8",
           "ticks": "",
           "title": {
            "standoff": 15
           },
           "zerolinecolor": "#EBF0F8",
           "zerolinewidth": 2
          },
          "yaxis": {
           "automargin": true,
           "gridcolor": "#EBF0F8",
           "linecolor": "#EBF0F8",
           "ticks": "",
           "title": {
            "standoff": 15
           },
           "zerolinecolor": "#EBF0F8",
           "zerolinewidth": 2
          }
         }
        },
        "title": {
         "text": "Correlation Matrix",
         "x": 0.5
        },
        "width": 800,
        "xaxis": {
         "showgrid": false
        },
        "yaxis": {
         "autorange": "reversed",
         "showgrid": false
        }
       }
      }
     },
     "metadata": {},
     "output_type": "display_data"
    }
   ],
   "source": [
    "plot_correlation_matrix(trxns.corr())"
   ]
  },
  {
   "cell_type": "markdown",
   "metadata": {},
   "source": [
    "Looks like dropping variables is unneccessary based on the heatmap. It is slightly concerning that none of the variables individually are associated to the dependent variable."
   ]
  },
  {
   "cell_type": "markdown",
   "metadata": {},
   "source": [
    "### Deal with class imbalance\n",
    "\n",
    "Since less than 2% of transactions are fraudulent in our dataset, the model could just choose to label all potential transactions as legitimate since it would be correct 98% of the time. We need to resample the dataset to avoid this issue. "
   ]
  },
  {
   "cell_type": "code",
   "execution_count": 5,
   "metadata": {},
   "outputs": [
    {
     "data": {
      "text/plain": [
       "0    5211\n",
       "1      91\n",
       "Name: fraud_flag, dtype: int64"
      ]
     },
     "execution_count": 5,
     "metadata": {},
     "output_type": "execute_result"
    }
   ],
   "source": [
    "trxns.fraud_flag.value_counts()"
   ]
  },
  {
   "cell_type": "code",
   "execution_count": 6,
   "metadata": {},
   "outputs": [
    {
     "name": "stdout",
     "output_type": "stream",
     "text": [
      "(5302, 20)\n",
      "(5302,)\n"
     ]
    }
   ],
   "source": [
    "X, y = prep_data(trxns)\n",
    "print(X.shape)\n",
    "print(y.shape)"
   ]
  },
  {
   "cell_type": "code",
   "execution_count": 7,
   "metadata": {},
   "outputs": [],
   "source": [
    "# first split between training and testing sets since I don't want to include resampled records in the test set\n",
    "X_train, X_test, y_train, y_test = train_test_split(X, y, train_size=0.8, random_state=48)\n"
   ]
  },
  {
   "cell_type": "code",
   "execution_count": 8,
   "metadata": {},
   "outputs": [
    {
     "name": "stdout",
     "output_type": "stream",
     "text": [
      "Resampled dataset shape Counter({0: 4166, 1: 4166})\n"
     ]
    }
   ],
   "source": [
    "method = BorderlineSMOTE(random_state=44)\n",
    "X_resampled, y_resampled = method.fit_resample(X_train, y_train)\n",
    "print('Resampled dataset shape %s' % Counter(y_resampled))"
   ]
  },
  {
   "cell_type": "code",
   "execution_count": 9,
   "metadata": {},
   "outputs": [],
   "source": [
    "corr_matrix_resampled = pd.DataFrame(X_resampled, columns=list(trxns.columns)[:-1]).corr()"
   ]
  },
  {
   "cell_type": "code",
   "execution_count": 10,
   "metadata": {},
   "outputs": [
    {
     "data": {
      "application/vnd.plotly.v1+json": {
       "config": {
        "plotlyServerURL": "https://plot.ly"
       },
       "data": [
        {
         "colorscale": [
          [
           0,
           "rgb(103,0,31)"
          ],
          [
           0.1,
           "rgb(178,24,43)"
          ],
          [
           0.2,
           "rgb(214,96,77)"
          ],
          [
           0.3,
           "rgb(244,165,130)"
          ],
          [
           0.4,
           "rgb(253,219,199)"
          ],
          [
           0.5,
           "rgb(247,247,247)"
          ],
          [
           0.6,
           "rgb(209,229,240)"
          ],
          [
           0.7,
           "rgb(146,197,222)"
          ],
          [
           0.8,
           "rgb(67,147,195)"
          ],
          [
           0.9,
           "rgb(33,102,172)"
          ],
          [
           1,
           "rgb(5,48,97)"
          ]
         ],
         "type": "heatmap",
         "x": [
          "scaled_amount",
          "type_DIVIDEND",
          "type_INTEREST",
          "type_INVESTMENT",
          "type_OTHER",
          "type_PAYMENT",
          "type_TRANSFER",
          "type_TT",
          "counterparty_country_CN",
          "counterparty_country_DE",
          "counterparty_country_FR",
          "counterparty_country_HK",
          "counterparty_country_IN",
          "counterparty_country_JP",
          "counterparty_country_SG",
          "counterparty_country_UK",
          "counterparty_country_US",
          "outside_normal_hrs",
          "customer_local_ccy",
          "no_common_ccy"
         ],
         "y": [
          "scaled_amount",
          "type_DIVIDEND",
          "type_INTEREST",
          "type_INVESTMENT",
          "type_OTHER",
          "type_PAYMENT",
          "type_TRANSFER",
          "type_TT",
          "counterparty_country_CN",
          "counterparty_country_DE",
          "counterparty_country_FR",
          "counterparty_country_HK",
          "counterparty_country_IN",
          "counterparty_country_JP",
          "counterparty_country_SG",
          "counterparty_country_UK",
          "counterparty_country_US",
          "outside_normal_hrs",
          "customer_local_ccy",
          "no_common_ccy"
         ],
         "z": [
          [
           null,
           null,
           null,
           null,
           null,
           null,
           null,
           null,
           null,
           null,
           null,
           null,
           null,
           null,
           null,
           null,
           null,
           null,
           null,
           null
          ],
          [
           -0.01353217024913653,
           null,
           null,
           null,
           null,
           null,
           null,
           null,
           null,
           null,
           null,
           null,
           null,
           null,
           null,
           null,
           null,
           null,
           null,
           null
          ],
          [
           -0.006874496405592276,
           -0.08046998939031161,
           null,
           null,
           null,
           null,
           null,
           null,
           null,
           null,
           null,
           null,
           null,
           null,
           null,
           null,
           null,
           null,
           null,
           null
          ],
          [
           -0.021837114923099248,
           -0.1356820629326724,
           -0.12204293143639375,
           null,
           null,
           null,
           null,
           null,
           null,
           null,
           null,
           null,
           null,
           null,
           null,
           null,
           null,
           null,
           null,
           null
          ],
          [
           0.0023095446983505312,
           -0.14082954231237707,
           -0.12553210286639427,
           -0.22131146694374523,
           null,
           null,
           null,
           null,
           null,
           null,
           null,
           null,
           null,
           null,
           null,
           null,
           null,
           null,
           null,
           null
          ],
          [
           0.07816517920848293,
           -0.16330100557148866,
           -0.1496503291632648,
           -0.23956670078839284,
           -0.2646900050924412,
           null,
           null,
           null,
           null,
           null,
           null,
           null,
           null,
           null,
           null,
           null,
           null,
           null,
           null,
           null
          ],
          [
           -0.03769351053384647,
           -0.10378823312816245,
           -0.08761613639979957,
           -0.15740800161072172,
           -0.12388706316948624,
           -0.19301535104679995,
           null,
           null,
           null,
           null,
           null,
           null,
           null,
           null,
           null,
           null,
           null,
           null,
           null,
           null
          ],
          [
           -0.03798799441898594,
           -0.09072438233474425,
           -0.08711374716466538,
           -0.1434303522526083,
           -0.15328288896917655,
           -0.19190860474907517,
           -0.10181089482161333,
           null,
           null,
           null,
           null,
           null,
           null,
           null,
           null,
           null,
           null,
           null,
           null,
           null
          ],
          [
           -0.0484181989986802,
           0.04262497752192455,
           0.057353289956824385,
           -0.0829930643311469,
           -0.02883522227358015,
           0.06776336740596997,
           0.015869101255644825,
           -0.026069148071861437,
           null,
           null,
           null,
           null,
           null,
           null,
           null,
           null,
           null,
           null,
           null,
           null
          ],
          [
           0.020881770090802762,
           -0.059063141923967374,
           0.015778476995539557,
           0.1345315528274329,
           -0.03386533823623213,
           -0.10702850058453003,
           0.04187811943710544,
           0.03924688125185435,
           -0.08808679663719747,
           null,
           null,
           null,
           null,
           null,
           null,
           null,
           null,
           null,
           null,
           null
          ],
          [
           -0.03212726122761731,
           0.0270480360598046,
           0.11687246267517394,
           -0.058544470507362424,
           -0.06150448922626708,
           -0.07263807733085191,
           0.06690283553347103,
           -0.009384179934514271,
           -0.07415175272528705,
           -0.06568820186805674,
           null,
           null,
           null,
           null,
           null,
           null,
           null,
           null,
           null,
           null
          ],
          [
           -0.012496849431469198,
           0.04945782577748544,
           0.1308235217104373,
           -0.049221607452645505,
           -0.01514042770689544,
           -0.09846267989524894,
           0.03058117628798836,
           -0.008551985748211009,
           -0.06987789182263061,
           -0.0619021519446007,
           -0.05210943341559619,
           null,
           null,
           null,
           null,
           null,
           null,
           null,
           null,
           null
          ],
          [
           0.10914576554836192,
           0.020914750165855173,
           0.0009075021609333922,
           -0.04273984744038835,
           0.11806570112610647,
           -0.05838735252490349,
           -0.04620733533116412,
           -0.0020214189725618857,
           -0.06213339278488444,
           -0.06640702658133817,
           -0.05590165157852497,
           -0.05267966593024919,
           null,
           null,
           null,
           null,
           null,
           null,
           null,
           null
          ],
          [
           0.15077959725267273,
           -0.034847400052750756,
           -0.08774291585680202,
           0.029968479031827984,
           -0.16430327483370172,
           0.37218271046082535,
           -0.11543801456870759,
           -0.12521025436818264,
           -0.1812714171453534,
           -0.14850198369518633,
           -0.13517795965944476,
           -0.12738675074723246,
           -0.1366572094384135,
           null,
           null,
           null,
           null,
           null,
           null,
           null
          ],
          [
           -0.013507666188741893,
           -0.02779325302512374,
           -0.04036282421389182,
           -0.07605381470637682,
           0.39930214026721333,
           -0.15913990727048943,
           -0.08548581111957339,
           -0.0018687284468407546,
           -0.1056390774529012,
           -0.09358161863805983,
           -0.0787773118082852,
           -0.07423684903323566,
           -0.06694863431175149,
           -0.18438343684128683,
           null,
           null,
           null,
           null,
           null,
           null
          ],
          [
           -0.08780154710522567,
           0.0056990576095734035,
           -0.016045360473048168,
           -0.1069271061768464,
           0.06050892032402975,
           -0.21633020786186732,
           0.19665215573748127,
           0.19491754718878565,
           -0.1340530114806537,
           -0.12202744865271135,
           -0.09924725795203139,
           -0.10061086128806816,
           -0.08784532217620578,
           -0.26099633131742883,
           -0.14767256825651656,
           null,
           null,
           null,
           null,
           null
          ],
          [
           -0.07231427919221571,
           -0.012514135984058592,
           -0.0514846882007917,
           0.24079331060905224,
           -0.1381347011244657,
           -0.0023404026473404778,
           -0.04430845000459094,
           -0.048636105447635046,
           -0.12316557542947981,
           -0.1036971741474225,
           -0.08474770528162334,
           -0.08655342747882738,
           -0.09285227700058507,
           -0.20104616930384986,
           -0.13084859875936838,
           -0.16976344016395198,
           null,
           null,
           null,
           null
          ],
          [
           -0.00033678313375713417,
           -0.11375957139025912,
           -0.07276145430964874,
           0.18549708709642404,
           -0.14018206363976762,
           0.29526784261287625,
           -0.11750351745958586,
           -0.11093008166641674,
           -0.06826873520046296,
           -0.026891559883728135,
           -0.04927906052805183,
           -0.07031330710220053,
           -0.08348961170523284,
           0.11586205890810211,
           -0.053264401052765614,
           -0.18706870165996206,
           0.22559377634524722,
           null,
           null,
           null
          ],
          [
           0.02447125057766441,
           0.015944621035349178,
           0.05800870941599205,
           0.08782951442381658,
           -0.2124141553103849,
           0.1828967535560744,
           -0.06327850102856254,
           -0.07450307893936121,
           -0.03952900692135451,
           -0.067768898858112,
           -0.011887643821263503,
           0.025970587234054765,
           -0.066019290735157,
           0.16836857874912908,
           -0.09933954908368454,
           -0.16297568243515845,
           0.20627194734694904,
           0.26061654073706964,
           null,
           null
          ],
          [
           0.05410553791943632,
           0.04695702306215786,
           -0.06075125712417734,
           0.03339102903986204,
           0.05328030944715451,
           -0.15627394135287478,
           -0.08668859290373457,
           0.14149054264126626,
           -0.09333850642838518,
           -0.06484696116508026,
           -0.020144895775862384,
           -0.04903648408454076,
           -0.06685857293762093,
           0.07977198225759756,
           0.1371961038227701,
           0.08604935842435911,
           -0.02757133583414989,
           -0.24092895555321564,
           -0.4863381557813482,
           null
          ]
         ],
         "zmax": 1,
         "zmin": -1
        }
       ],
       "layout": {
        "height": 800,
        "template": {
         "data": {
          "bar": [
           {
            "error_x": {
             "color": "#2a3f5f"
            },
            "error_y": {
             "color": "#2a3f5f"
            },
            "marker": {
             "line": {
              "color": "white",
              "width": 0.5
             },
             "pattern": {
              "fillmode": "overlay",
              "size": 10,
              "solidity": 0.2
             }
            },
            "type": "bar"
           }
          ],
          "barpolar": [
           {
            "marker": {
             "line": {
              "color": "white",
              "width": 0.5
             },
             "pattern": {
              "fillmode": "overlay",
              "size": 10,
              "solidity": 0.2
             }
            },
            "type": "barpolar"
           }
          ],
          "carpet": [
           {
            "aaxis": {
             "endlinecolor": "#2a3f5f",
             "gridcolor": "#C8D4E3",
             "linecolor": "#C8D4E3",
             "minorgridcolor": "#C8D4E3",
             "startlinecolor": "#2a3f5f"
            },
            "baxis": {
             "endlinecolor": "#2a3f5f",
             "gridcolor": "#C8D4E3",
             "linecolor": "#C8D4E3",
             "minorgridcolor": "#C8D4E3",
             "startlinecolor": "#2a3f5f"
            },
            "type": "carpet"
           }
          ],
          "choropleth": [
           {
            "colorbar": {
             "outlinewidth": 0,
             "ticks": ""
            },
            "type": "choropleth"
           }
          ],
          "contour": [
           {
            "colorbar": {
             "outlinewidth": 0,
             "ticks": ""
            },
            "colorscale": [
             [
              0,
              "#0d0887"
             ],
             [
              0.1111111111111111,
              "#46039f"
             ],
             [
              0.2222222222222222,
              "#7201a8"
             ],
             [
              0.3333333333333333,
              "#9c179e"
             ],
             [
              0.4444444444444444,
              "#bd3786"
             ],
             [
              0.5555555555555556,
              "#d8576b"
             ],
             [
              0.6666666666666666,
              "#ed7953"
             ],
             [
              0.7777777777777778,
              "#fb9f3a"
             ],
             [
              0.8888888888888888,
              "#fdca26"
             ],
             [
              1,
              "#f0f921"
             ]
            ],
            "type": "contour"
           }
          ],
          "contourcarpet": [
           {
            "colorbar": {
             "outlinewidth": 0,
             "ticks": ""
            },
            "type": "contourcarpet"
           }
          ],
          "heatmap": [
           {
            "colorbar": {
             "outlinewidth": 0,
             "ticks": ""
            },
            "colorscale": [
             [
              0,
              "#0d0887"
             ],
             [
              0.1111111111111111,
              "#46039f"
             ],
             [
              0.2222222222222222,
              "#7201a8"
             ],
             [
              0.3333333333333333,
              "#9c179e"
             ],
             [
              0.4444444444444444,
              "#bd3786"
             ],
             [
              0.5555555555555556,
              "#d8576b"
             ],
             [
              0.6666666666666666,
              "#ed7953"
             ],
             [
              0.7777777777777778,
              "#fb9f3a"
             ],
             [
              0.8888888888888888,
              "#fdca26"
             ],
             [
              1,
              "#f0f921"
             ]
            ],
            "type": "heatmap"
           }
          ],
          "heatmapgl": [
           {
            "colorbar": {
             "outlinewidth": 0,
             "ticks": ""
            },
            "colorscale": [
             [
              0,
              "#0d0887"
             ],
             [
              0.1111111111111111,
              "#46039f"
             ],
             [
              0.2222222222222222,
              "#7201a8"
             ],
             [
              0.3333333333333333,
              "#9c179e"
             ],
             [
              0.4444444444444444,
              "#bd3786"
             ],
             [
              0.5555555555555556,
              "#d8576b"
             ],
             [
              0.6666666666666666,
              "#ed7953"
             ],
             [
              0.7777777777777778,
              "#fb9f3a"
             ],
             [
              0.8888888888888888,
              "#fdca26"
             ],
             [
              1,
              "#f0f921"
             ]
            ],
            "type": "heatmapgl"
           }
          ],
          "histogram": [
           {
            "marker": {
             "pattern": {
              "fillmode": "overlay",
              "size": 10,
              "solidity": 0.2
             }
            },
            "type": "histogram"
           }
          ],
          "histogram2d": [
           {
            "colorbar": {
             "outlinewidth": 0,
             "ticks": ""
            },
            "colorscale": [
             [
              0,
              "#0d0887"
             ],
             [
              0.1111111111111111,
              "#46039f"
             ],
             [
              0.2222222222222222,
              "#7201a8"
             ],
             [
              0.3333333333333333,
              "#9c179e"
             ],
             [
              0.4444444444444444,
              "#bd3786"
             ],
             [
              0.5555555555555556,
              "#d8576b"
             ],
             [
              0.6666666666666666,
              "#ed7953"
             ],
             [
              0.7777777777777778,
              "#fb9f3a"
             ],
             [
              0.8888888888888888,
              "#fdca26"
             ],
             [
              1,
              "#f0f921"
             ]
            ],
            "type": "histogram2d"
           }
          ],
          "histogram2dcontour": [
           {
            "colorbar": {
             "outlinewidth": 0,
             "ticks": ""
            },
            "colorscale": [
             [
              0,
              "#0d0887"
             ],
             [
              0.1111111111111111,
              "#46039f"
             ],
             [
              0.2222222222222222,
              "#7201a8"
             ],
             [
              0.3333333333333333,
              "#9c179e"
             ],
             [
              0.4444444444444444,
              "#bd3786"
             ],
             [
              0.5555555555555556,
              "#d8576b"
             ],
             [
              0.6666666666666666,
              "#ed7953"
             ],
             [
              0.7777777777777778,
              "#fb9f3a"
             ],
             [
              0.8888888888888888,
              "#fdca26"
             ],
             [
              1,
              "#f0f921"
             ]
            ],
            "type": "histogram2dcontour"
           }
          ],
          "mesh3d": [
           {
            "colorbar": {
             "outlinewidth": 0,
             "ticks": ""
            },
            "type": "mesh3d"
           }
          ],
          "parcoords": [
           {
            "line": {
             "colorbar": {
              "outlinewidth": 0,
              "ticks": ""
             }
            },
            "type": "parcoords"
           }
          ],
          "pie": [
           {
            "automargin": true,
            "type": "pie"
           }
          ],
          "scatter": [
           {
            "fillpattern": {
             "fillmode": "overlay",
             "size": 10,
             "solidity": 0.2
            },
            "type": "scatter"
           }
          ],
          "scatter3d": [
           {
            "line": {
             "colorbar": {
              "outlinewidth": 0,
              "ticks": ""
             }
            },
            "marker": {
             "colorbar": {
              "outlinewidth": 0,
              "ticks": ""
             }
            },
            "type": "scatter3d"
           }
          ],
          "scattercarpet": [
           {
            "marker": {
             "colorbar": {
              "outlinewidth": 0,
              "ticks": ""
             }
            },
            "type": "scattercarpet"
           }
          ],
          "scattergeo": [
           {
            "marker": {
             "colorbar": {
              "outlinewidth": 0,
              "ticks": ""
             }
            },
            "type": "scattergeo"
           }
          ],
          "scattergl": [
           {
            "marker": {
             "colorbar": {
              "outlinewidth": 0,
              "ticks": ""
             }
            },
            "type": "scattergl"
           }
          ],
          "scattermapbox": [
           {
            "marker": {
             "colorbar": {
              "outlinewidth": 0,
              "ticks": ""
             }
            },
            "type": "scattermapbox"
           }
          ],
          "scatterpolar": [
           {
            "marker": {
             "colorbar": {
              "outlinewidth": 0,
              "ticks": ""
             }
            },
            "type": "scatterpolar"
           }
          ],
          "scatterpolargl": [
           {
            "marker": {
             "colorbar": {
              "outlinewidth": 0,
              "ticks": ""
             }
            },
            "type": "scatterpolargl"
           }
          ],
          "scatterternary": [
           {
            "marker": {
             "colorbar": {
              "outlinewidth": 0,
              "ticks": ""
             }
            },
            "type": "scatterternary"
           }
          ],
          "surface": [
           {
            "colorbar": {
             "outlinewidth": 0,
             "ticks": ""
            },
            "colorscale": [
             [
              0,
              "#0d0887"
             ],
             [
              0.1111111111111111,
              "#46039f"
             ],
             [
              0.2222222222222222,
              "#7201a8"
             ],
             [
              0.3333333333333333,
              "#9c179e"
             ],
             [
              0.4444444444444444,
              "#bd3786"
             ],
             [
              0.5555555555555556,
              "#d8576b"
             ],
             [
              0.6666666666666666,
              "#ed7953"
             ],
             [
              0.7777777777777778,
              "#fb9f3a"
             ],
             [
              0.8888888888888888,
              "#fdca26"
             ],
             [
              1,
              "#f0f921"
             ]
            ],
            "type": "surface"
           }
          ],
          "table": [
           {
            "cells": {
             "fill": {
              "color": "#EBF0F8"
             },
             "line": {
              "color": "white"
             }
            },
            "header": {
             "fill": {
              "color": "#C8D4E3"
             },
             "line": {
              "color": "white"
             }
            },
            "type": "table"
           }
          ]
         },
         "layout": {
          "annotationdefaults": {
           "arrowcolor": "#2a3f5f",
           "arrowhead": 0,
           "arrowwidth": 1
          },
          "autotypenumbers": "strict",
          "coloraxis": {
           "colorbar": {
            "outlinewidth": 0,
            "ticks": ""
           }
          },
          "colorscale": {
           "diverging": [
            [
             0,
             "#8e0152"
            ],
            [
             0.1,
             "#c51b7d"
            ],
            [
             0.2,
             "#de77ae"
            ],
            [
             0.3,
             "#f1b6da"
            ],
            [
             0.4,
             "#fde0ef"
            ],
            [
             0.5,
             "#f7f7f7"
            ],
            [
             0.6,
             "#e6f5d0"
            ],
            [
             0.7,
             "#b8e186"
            ],
            [
             0.8,
             "#7fbc41"
            ],
            [
             0.9,
             "#4d9221"
            ],
            [
             1,
             "#276419"
            ]
           ],
           "sequential": [
            [
             0,
             "#0d0887"
            ],
            [
             0.1111111111111111,
             "#46039f"
            ],
            [
             0.2222222222222222,
             "#7201a8"
            ],
            [
             0.3333333333333333,
             "#9c179e"
            ],
            [
             0.4444444444444444,
             "#bd3786"
            ],
            [
             0.5555555555555556,
             "#d8576b"
            ],
            [
             0.6666666666666666,
             "#ed7953"
            ],
            [
             0.7777777777777778,
             "#fb9f3a"
            ],
            [
             0.8888888888888888,
             "#fdca26"
            ],
            [
             1,
             "#f0f921"
            ]
           ],
           "sequentialminus": [
            [
             0,
             "#0d0887"
            ],
            [
             0.1111111111111111,
             "#46039f"
            ],
            [
             0.2222222222222222,
             "#7201a8"
            ],
            [
             0.3333333333333333,
             "#9c179e"
            ],
            [
             0.4444444444444444,
             "#bd3786"
            ],
            [
             0.5555555555555556,
             "#d8576b"
            ],
            [
             0.6666666666666666,
             "#ed7953"
            ],
            [
             0.7777777777777778,
             "#fb9f3a"
            ],
            [
             0.8888888888888888,
             "#fdca26"
            ],
            [
             1,
             "#f0f921"
            ]
           ]
          },
          "colorway": [
           "#636efa",
           "#EF553B",
           "#00cc96",
           "#ab63fa",
           "#FFA15A",
           "#19d3f3",
           "#FF6692",
           "#B6E880",
           "#FF97FF",
           "#FECB52"
          ],
          "font": {
           "color": "#2a3f5f"
          },
          "geo": {
           "bgcolor": "white",
           "lakecolor": "white",
           "landcolor": "white",
           "showlakes": true,
           "showland": true,
           "subunitcolor": "#C8D4E3"
          },
          "hoverlabel": {
           "align": "left"
          },
          "hovermode": "closest",
          "mapbox": {
           "style": "light"
          },
          "paper_bgcolor": "white",
          "plot_bgcolor": "white",
          "polar": {
           "angularaxis": {
            "gridcolor": "#EBF0F8",
            "linecolor": "#EBF0F8",
            "ticks": ""
           },
           "bgcolor": "white",
           "radialaxis": {
            "gridcolor": "#EBF0F8",
            "linecolor": "#EBF0F8",
            "ticks": ""
           }
          },
          "scene": {
           "xaxis": {
            "backgroundcolor": "white",
            "gridcolor": "#DFE8F3",
            "gridwidth": 2,
            "linecolor": "#EBF0F8",
            "showbackground": true,
            "ticks": "",
            "zerolinecolor": "#EBF0F8"
           },
           "yaxis": {
            "backgroundcolor": "white",
            "gridcolor": "#DFE8F3",
            "gridwidth": 2,
            "linecolor": "#EBF0F8",
            "showbackground": true,
            "ticks": "",
            "zerolinecolor": "#EBF0F8"
           },
           "zaxis": {
            "backgroundcolor": "white",
            "gridcolor": "#DFE8F3",
            "gridwidth": 2,
            "linecolor": "#EBF0F8",
            "showbackground": true,
            "ticks": "",
            "zerolinecolor": "#EBF0F8"
           }
          },
          "shapedefaults": {
           "line": {
            "color": "#2a3f5f"
           }
          },
          "ternary": {
           "aaxis": {
            "gridcolor": "#DFE8F3",
            "linecolor": "#A2B1C6",
            "ticks": ""
           },
           "baxis": {
            "gridcolor": "#DFE8F3",
            "linecolor": "#A2B1C6",
            "ticks": ""
           },
           "bgcolor": "white",
           "caxis": {
            "gridcolor": "#DFE8F3",
            "linecolor": "#A2B1C6",
            "ticks": ""
           }
          },
          "title": {
           "x": 0.05
          },
          "xaxis": {
           "automargin": true,
           "gridcolor": "#EBF0F8",
           "linecolor": "#EBF0F8",
           "ticks": "",
           "title": {
            "standoff": 15
           },
           "zerolinecolor": "#EBF0F8",
           "zerolinewidth": 2
          },
          "yaxis": {
           "automargin": true,
           "gridcolor": "#EBF0F8",
           "linecolor": "#EBF0F8",
           "ticks": "",
           "title": {
            "standoff": 15
           },
           "zerolinecolor": "#EBF0F8",
           "zerolinewidth": 2
          }
         }
        },
        "title": {
         "text": "Correlation Matrix",
         "x": 0.5
        },
        "width": 800,
        "xaxis": {
         "showgrid": false
        },
        "yaxis": {
         "autorange": "reversed",
         "showgrid": false
        }
       }
      }
     },
     "metadata": {},
     "output_type": "display_data"
    }
   ],
   "source": [
    "plot_correlation_matrix(corr_matrix_resampled)"
   ]
  },
  {
   "cell_type": "markdown",
   "metadata": {},
   "source": [
    "### XGBoost for fraud detection\n",
    "\n",
    "- First, run a grid search to see how many trees (n_estimators) would be best for the use case.\n",
    "- Then, train the model on resampled training data and assess acuracy, precision and recall. \n",
    "- Finally, understand why the model is predicting fraud or not through feature importance at the individual level as well as aggregate level."
   ]
  },
  {
   "cell_type": "code",
   "execution_count": 11,
   "metadata": {},
   "outputs": [
    {
     "name": "stdout",
     "output_type": "stream",
     "text": [
      "Best: -0.028250 using {'n_estimators': 100}\n",
      "-0.030145 (0.007716) with: {'n_estimators': 50}\n",
      "-0.028250 (0.008989) with: {'n_estimators': 100}\n",
      "-0.028471 (0.009738) with: {'n_estimators': 150}\n",
      "-0.029072 (0.010030) with: {'n_estimators': 200}\n",
      "-0.029572 (0.010464) with: {'n_estimators': 250}\n"
     ]
    }
   ],
   "source": [
    "best_n_estimators = get_best_n_estimators(X_resampled, y_resampled)"
   ]
  },
  {
   "cell_type": "code",
   "execution_count": 12,
   "metadata": {},
   "outputs": [
    {
     "name": "stdout",
     "output_type": "stream",
     "text": [
      "[[1041    4]\n",
      " [   4   12]]\n",
      "              precision    recall  f1-score   support\n",
      "\n",
      "           0       1.00      1.00      1.00      1045\n",
      "           1       0.75      0.75      0.75        16\n",
      "\n",
      "    accuracy                           0.99      1061\n",
      "   macro avg       0.87      0.87      0.87      1061\n",
      "weighted avg       0.99      0.99      0.99      1061\n",
      "\n",
      "Accuracy score is: 0.9924599434495759\n"
     ]
    }
   ],
   "source": [
    "method = XGBClassifier(\n",
    "    n_estimators = best_n_estimators,\n",
    "    importance_type = 'gain',\n",
    "    random_state=42\n",
    ")\n",
    "xgb_model = method.fit(X_resampled, y_resampled)\n",
    "# predict\n",
    "xgb_y_predict = xgb_model.predict(X_test)\n",
    "print(confusion_matrix(xgb_y_predict, y_test))\n",
    "print(classification_report(xgb_y_predict, y_test))\n",
    "# accuracy score\n",
    "xgb_score = accuracy_score(xgb_y_predict, y_test)\n",
    "print('Accuracy score is:', xgb_score)"
   ]
  },
  {
   "cell_type": "code",
   "execution_count": 13,
   "metadata": {},
   "outputs": [
    {
     "data": {
      "image/png": "[encoded data removed]",
      "text/plain": [
       "<Figure size 640x480 with 1 Axes>"
      ]
     },
     "metadata": {},
     "output_type": "display_data"
    }
   ],
   "source": [
    "# understand which features are most important in identifying fraud with xgboost built in feature importances (using gain metric)\n",
    "plt.barh(list(trxns.columns)[:-1], xgb_model.feature_importances_)\n",
    "plt.xlabel(\"Xgboost Feature Importance\")\n",
    "plt.show()"
   ]
  },
  {
   "cell_type": "markdown",
   "metadata": {},
   "source": [
    "### Shapley values from game theory\n",
    "\n",
    "Features pushing the prediction higher (i.e. fraudulent) are shown in red, those pushing the prediction lower (not fraudulent) are in blue."
   ]
  },
  {
   "cell_type": "code",
   "execution_count": 14,
   "metadata": {},
   "outputs": [],
   "source": [
    "feature_names = list(trxns.columns)[:-1]\n",
    "X = pd.DataFrame(X_test, columns=feature_names)"
   ]
  },
  {
   "cell_type": "code",
   "execution_count": 15,
   "metadata": {},
   "outputs": [
    {
     "name": "stderr",
     "output_type": "stream",
     "text": [
      "/Users/erinknochenhauer/.local/share/virtualenvs/silent_eight-IOYIP5YF/lib/python3.10/site-packages/xgboost/core.py:122: UserWarning:\n",
      "\n",
      "ntree_limit is deprecated, use `iteration_range` or model slicing instead.\n",
      "\n"
     ]
    }
   ],
   "source": [
    "shap_values = get_shap_values(X, xgb_model)"
   ]
  },
  {
   "cell_type": "code",
   "execution_count": 16,
   "metadata": {},
   "outputs": [
    {
     "data": {
      "image/png": "[encoded data removed]",
      "text/plain": [
       "<Figure size 800x650 with 3 Axes>"
      ]
     },
     "metadata": {},
     "output_type": "display_data"
    }
   ],
   "source": [
    "# waterfall plot for an individual observation interpretation\n",
    "shap.plots.waterfall(shap_values[3])"
   ]
  },
  {
   "cell_type": "markdown",
   "metadata": {},
   "source": [
    "In the graph above, we can see that having the transaction occur in the customer's local currency greatly decreases the likelihood of fraud. The fact that the transaction occurred outside normal hours (between midnight and 6 am) increased the liklihood of fraud. Overall, this transaction was not considered fraud given the impact of all features as a whole."
   ]
  },
  {
   "cell_type": "code",
   "execution_count": 17,
   "metadata": {},
   "outputs": [
    {
     "data": {
      "image/png": "[encoded data removed]",
      "text/plain": [
       "<Figure size 800x650 with 3 Axes>"
      ]
     },
     "metadata": {},
     "output_type": "display_data"
    }
   ],
   "source": [
    "# waterfall plot for an individual observation interpretation - fraudulent transaction example\n",
    "shap.plots.waterfall(shap_values[538])"
   ]
  },
  {
   "cell_type": "markdown",
   "metadata": {},
   "source": [
    "The above transaction was predicted fraudulent mainly due to the transaction being labeled as Other and that it occurred outside normal hours. "
   ]
  },
  {
   "cell_type": "code",
   "execution_count": 18,
   "metadata": {},
   "outputs": [
    {
     "name": "stderr",
     "output_type": "stream",
     "text": [
      "/Users/erinknochenhauer/.local/share/virtualenvs/silent_eight-IOYIP5YF/lib/python3.10/site-packages/shap/plots/_beeswarm.py:340: UserWarning:\n",
      "\n",
      "No data for colormapping provided via 'c'. Parameters 'vmin', 'vmax' will be ignored\n",
      "\n"
     ]
    },
    {
     "data": {
      "image/png": "[encoded data removed]",
      "text/plain": [
       "<Figure size 800x550 with 2 Axes>"
      ]
     },
     "metadata": {},
     "output_type": "display_data"
    }
   ],
   "source": [
    "# summarize the effects of all the features\n",
    "shap.plots.beeswarm(shap_values)"
   ]
  },
  {
   "cell_type": "markdown",
   "metadata": {},
   "source": [
    "Overall, the scaled transaction amount is the most important feature in determining the probability of fraud followed by a transaction labeled 'Payment'. As scaled amount gets very high or very low it increases the liklihood of fraud. Being labeled as 'Payment' type increases the liklihood of fraud. The third biggest feature importance is whether the customer purchases in their local currency. If they do, it decreases the liklihood of fraud.\n",
    "\n",
    "If I had more time, I would like to look at the impact of the categorical features as an aggregate (i.e. how much does the Type of transaction impact the prediction). \n",
    "\n",
    "I would also look into additional feature engineering such as the type of company the counter party is. Other potential features that may help improve the model could be including interaction terms such as customer - counterparty country combinations. The assumption I am making here would be that specific country combinations may have a greater impact on fraud than others. Lastly, one potential feature that may contribute to fraud is the frequency of transactions. If we categorize transaction activity by customer into low, medium, high levels of frequencies, and then calculate the time since their last transaction, it could be an indicator of fraudulent activity or lack of fraudulent activity.\n",
    "\n",
    "Feature selection may improve the performance of the model as well as having fraud subject matter experts involved. "
   ]
  },
  {
   "cell_type": "code",
   "execution_count": null,
   "metadata": {},
   "outputs": [],
   "source": []
  }
 ],
 "metadata": {
  "kernelspec": {
   "display_name": "Python 3.10.7 ('silent_eight-IOYIP5YF')",
   "language": "python",
   "name": "python3"
  },
  "language_info": {
   "codemirror_mode": {
    "name": "ipython",
    "version": 3
   },
   "file_extension": ".py",
   "mimetype": "text/x-python",
   "name": "python",
   "nbconvert_exporter": "python",
   "pygments_lexer": "ipython3",
   "version": "3.10.7"
  },
  "orig_nbformat": 4,
  "vscode": {
   "interpreter": {
    "hash": "5ed56eb4a84f9eccb37ce8aa212f53e86ce93183b5c60221f4c5c3e4749dbd5c"
   }
  }
 },
 "nbformat": 4,
 "nbformat_minor": 2
}
